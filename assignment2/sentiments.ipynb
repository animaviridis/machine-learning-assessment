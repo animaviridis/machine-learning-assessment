{
 "cells": [
  {
   "cell_type": "code",
   "execution_count": 1,
   "metadata": {},
   "outputs": [],
   "source": [
    "import aux_functions as aux\n",
    "import bayes\n",
    "import rule_based\n"
   ]
  },
  {
   "cell_type": "code",
   "execution_count": 2,
   "metadata": {},
   "outputs": [],
   "source": [
    "# initialise datasets and dictionaries\n",
    "sentimentDictionary, sentencesTrain, sentencesTest, sentencesNokia = aux.read_files()\n",
    "\n",
    "N = 3  # make n-grams (1 for single word, 2 for bigrams, etc.)\n",
    "\n",
    "# build conditional probabilities using training data\n",
    "pWordPos, pWordNeg, pWord = bayes.trainBayes(sentencesTrain, n=N)\n",
    "\n"
   ]
  },
  {
   "cell_type": "code",
   "execution_count": 3,
   "metadata": {},
   "outputs": [
    {
     "name": "stdout",
     "output_type": "stream",
     "text": [
      "Films (Train Data, Naive Bayes)\t Accuracy (All)=0.78 (7538/9604)\n",
      "\n",
      "Films (Train Data, Naive Bayes)\t Precision (Pos)=0.89 (3122/3502)\n",
      "Films (Train Data, Naive Bayes)\t Recall (Pos)=0.65 (3122/4808)\n",
      "Films (Train Data, Naive Bayes)\t F-measure (Pos)=0.75\n",
      "Films (Train Data, Naive Bayes)\t Precision (Pos)=0.72 (4416/6102)\n",
      "Films (Train Data, Naive Bayes)\t Recall (Pos)=0.92 (4416/4796)\n",
      "Films (Train Data, Naive Bayes)\t F-measure (Pos)=0.81\n"
     ]
    }
   ],
   "source": [
    "# run naive bayes classifier on datasets\n",
    "bayes.testBayes(sentencesTrain,  \"Films (Train Data, Naive Bayes)\\t\", pWordPos, pWordNeg, pWord,0.5, n=N)\n"
   ]
  },
  {
   "cell_type": "code",
   "execution_count": 4,
   "metadata": {},
   "outputs": [
    {
     "name": "stdout",
     "output_type": "stream",
     "text": [
      "Films  (Test Data, Naive Bayes)\t Accuracy (All)=0.62 (652/1060)\n",
      "\n",
      "Films  (Test Data, Naive Bayes)\t Precision (Pos)=0.70 (204/292)\n",
      "Films  (Test Data, Naive Bayes)\t Recall (Pos)=0.39 (204/524)\n",
      "Films  (Test Data, Naive Bayes)\t F-measure (Pos)=0.50\n",
      "Films  (Test Data, Naive Bayes)\t Precision (Pos)=0.58 (448/768)\n",
      "Films  (Test Data, Naive Bayes)\t Recall (Pos)=0.84 (448/536)\n",
      "Films  (Test Data, Naive Bayes)\t F-measure (Pos)=0.69\n"
     ]
    }
   ],
   "source": [
    "bayes.testBayes(sentencesTest,  \"Films  (Test Data, Naive Bayes)\\t\", pWordPos, pWordNeg, pWord,0.5, n=N)\n"
   ]
  },
  {
   "cell_type": "code",
   "execution_count": 5,
   "metadata": {},
   "outputs": [
    {
     "name": "stdout",
     "output_type": "stream",
     "text": [
      "Nokia   (All Data,  Naive Bayes)\t Accuracy (All)=0.67 (178/266)\n",
      "\n",
      "Nokia   (All Data,  Naive Bayes)\t Precision (Pos)=0.71 (169/240)\n",
      "Nokia   (All Data,  Naive Bayes)\t Recall (Pos)=0.91 (169/186)\n",
      "Nokia   (All Data,  Naive Bayes)\t F-measure (Pos)=0.79\n",
      "Nokia   (All Data,  Naive Bayes)\t Precision (Pos)=0.37 (9/26)\n",
      "Nokia   (All Data,  Naive Bayes)\t Recall (Pos)=0.12 (9/80)\n",
      "Nokia   (All Data,  Naive Bayes)\t F-measure (Pos)=0.19\n"
     ]
    }
   ],
   "source": [
    "bayes.testBayes(sentencesNokia, \"Nokia   (All Data,  Naive Bayes)\\t\", pWordPos, pWordNeg, pWord,0.7, n=N)\n"
   ]
  },
  {
   "cell_type": "code",
   "execution_count": 6,
   "metadata": {},
   "outputs": [
    {
     "name": "stdout",
     "output_type": "stream",
     "text": [
      "Films (Train Data, Rule-Based)\t Accuracy (All)=0.50 (4835/9604)\n",
      "\n",
      "Films (Train Data, Rule-Based)\t Precision (Pos)=0.50 (4798/9557)\n",
      "Films (Train Data, Rule-Based)\t Recall (Pos)=1.00 (4798/4808)\n",
      "Films (Train Data, Rule-Based)\t F-measure (Pos)=0.67\n",
      "Films (Train Data, Rule-Based)\t Precision (Pos)=0.79 (37/47)\n",
      "Films (Train Data, Rule-Based)\t Recall (Pos)=0.01 (37/4796)\n",
      "Films (Train Data, Rule-Based)\t F-measure (Pos)=0.02\n"
     ]
    }
   ],
   "source": [
    "# run sentiment dictionary based classifier on datasets\n",
    "rule_based.testDictionary(sentencesTrain,  \"Films (Train Data, Rule-Based)\\t\", sentimentDictionary, -4)\n"
   ]
  },
  {
   "cell_type": "code",
   "execution_count": 7,
   "metadata": {},
   "outputs": [
    {
     "name": "stdout",
     "output_type": "stream",
     "text": [
      "Films  (Test Data, Rule-Based)\t Accuracy (All)=0.50 (530/1060)\n",
      "\n",
      "Films  (Test Data, Rule-Based)\t Precision (Pos)=0.50 (524/1054)\n",
      "Films  (Test Data, Rule-Based)\t Recall (Pos)=1.00 (524/524)\n",
      "Films  (Test Data, Rule-Based)\t F-measure (Pos)=0.66\n",
      "Films  (Test Data, Rule-Based)\t Precision (Pos)=1.00 (6/6)\n",
      "Films  (Test Data, Rule-Based)\t Recall (Pos)=0.01 (6/536)\n",
      "Films  (Test Data, Rule-Based)\t F-measure (Pos)=0.03\n"
     ]
    }
   ],
   "source": [
    "rule_based.testDictionary(sentencesTest,  \"Films  (Test Data, Rule-Based)\\t\",  sentimentDictionary, -4)\n"
   ]
  },
  {
   "cell_type": "code",
   "execution_count": 8,
   "metadata": {},
   "outputs": [
    {
     "name": "stdout",
     "output_type": "stream",
     "text": [
      "Nokia   (All Data, Rule-Based)\t Accuracy (All)=0.70 (186/266)\n",
      "\n",
      "Nokia   (All Data, Rule-Based)\t Precision (Pos)=0.70 (186/266)\n",
      "Nokia   (All Data, Rule-Based)\t Recall (Pos)=1.00 (186/186)\n",
      "Nokia   (All Data, Rule-Based)\t F-measure (Pos)=0.82\n",
      "Nokia   (All Data, Rule-Based)\t Precision (Pos)=1.00 (0/0)\n",
      "Nokia   (All Data, Rule-Based)\t Recall (Pos)=0.01 (0/80)\n",
      "Nokia   (All Data, Rule-Based)\t F-measure (Pos)=0.02\n"
     ]
    }
   ],
   "source": [
    "rule_based.testDictionary(sentencesNokia, \"Nokia   (All Data, Rule-Based)\\t\",  sentimentDictionary, -3)\n"
   ]
  },
  {
   "cell_type": "code",
   "execution_count": 9,
   "metadata": {},
   "outputs": [
    {
     "name": "stdout",
     "output_type": "stream",
     "text": [
      "NEGATIVE:\n",
      "['the_only_thing', 'of_the_characters', 'wants_to_be', 'should_have_been', 'supposed_to_be', 'if_it_were', 'to_sit_through', 'by_the_numbers', 'it_wants_to', 'the_problem_with', 'an_hour_and', 'suffers_from_a', 'that_it_is', 'the_same_old', 'feels_like_a', 'for_its_own', 'its_own_good', 'more_like_a', 'but_the_movie', 'thinks_it_is', 'in_the_movie', 'of_the_story', 'little_more_than', 'the_master_of', 'is_just_too', 'live_up_to', 'that_the_movie', 'after_school_special', 'to_have_been', 'lost_in_the', 'no_amount_of', 'waste_of_time', 'straight_to_video', 'master_of_disguise', 'it_thinks_it', 'a_good_movie', 'anything_more_than', 'for_a_movie', 'has_all_the', 'nothing_more_than', 'the_other_side', 'no_such_thing', 'the_fact_that', 'of_the_damned', 'ecks_vs_sever', 'is_about_as', 'know_how_to', 'hard_to_be', 'of_it_is', 'comes_across_as']\n",
      "\n",
      "POSITIVE:\n",
      "['edge_of_your', 'of_love_and', 'the_best_of', 'best_of_the', 'the_best_films', 'films_of_the', 'a_human_face', 'of_age_story', 'story_with_a', 'the_grey_zone', 'the_face_of', \"it's_still_a\", 'is_also_a', 'the_lives_of', 'read_my_lips', 'in_the_mood', 'a_great_deal', 'if_you_can', 'my_big_fat', 'big_fat_greek', 'fat_greek_wedding', 'for_the_first', 'in_recent_memory', 'what_makes_it', \"the_year's_best\", 'the_film_works', 'as_a_film', 'may_not_be', 'of_a_man', 'it_may_not', 'of_your_seat', 'exploration_of_the', 'thanks_to_the', 'the_performances_of', 'a_coming_of', 'movie_that_will', 'examination_of_the', 'film_is_an', 'look_at_a', 'the_edge_of', 'in_spite_of', 'tour_de_force', 'look_at_the', 'has_created_a', 'a_work_of', 'at_the_same', 'the_same_time', 'makes_up_for', 'portrait_of_a', 'of_the_best']\n"
     ]
    }
   ],
   "source": [
    "# print most useful words\n",
    "aux.mostUseful(pWordPos, pWordNeg, pWord, 50)\n"
   ]
  },
  {
   "cell_type": "code",
   "execution_count": null,
   "metadata": {},
   "outputs": [],
   "source": []
  }
 ],
 "metadata": {
  "kernelspec": {
   "display_name": "Python 3",
   "language": "python",
   "name": "python3"
  },
  "language_info": {
   "codemirror_mode": {
    "name": "ipython",
    "version": 3
   },
   "file_extension": ".py",
   "mimetype": "text/x-python",
   "name": "python",
   "nbconvert_exporter": "python",
   "pygments_lexer": "ipython3",
   "version": "3.7.4"
  }
 },
 "nbformat": 4,
 "nbformat_minor": 1
}
