{
 "cells": [
  {
   "cell_type": "code",
   "execution_count": 1,
   "metadata": {},
   "outputs": [],
   "source": [
    "import aux_functions as aux\n",
    "import bayes\n",
    "import rule_based\n"
   ]
  },
  {
   "cell_type": "code",
   "execution_count": 2,
   "metadata": {},
   "outputs": [],
   "source": [
    "# initialise datasets and dictionaries\n",
    "sentimentDictionary, sentencesTrain, sentencesTest, sentencesNokia = aux.read_files()\n",
    "\n",
    "N = 1  # make n-grams (1 for single word, 2 for bigrams, etc.)\n",
    "\n",
    "# build conditional probabilities using training data\n",
    "pWordPos, pWordNeg, pWord = bayes.trainBayes(sentencesTrain, n=N)\n",
    "\n"
   ]
  },
  {
   "cell_type": "code",
   "execution_count": 3,
   "metadata": {},
   "outputs": [
    {
     "name": "stdout",
     "output_type": "stream",
     "text": [
      "Films (Train Data, Naive Bayes)\t Accuracy (All)=0.89 (8497/9551)\n",
      "\n",
      "Films (Train Data, Naive Bayes)\t Precision (Pos)=0.90 (4188/4667)\n",
      "Films (Train Data, Naive Bayes)\t Recall (Pos)=0.88 (4188/4763)\n",
      "Films (Train Data, Naive Bayes)\t F-measure (Pos)=0.89\n",
      "Films (Train Data, Naive Bayes)\t Precision (Pos)=0.88 (4309/4884)\n",
      "Films (Train Data, Naive Bayes)\t Recall (Pos)=0.90 (4309/4788)\n",
      "Films (Train Data, Naive Bayes)\t F-measure (Pos)=0.89\n"
     ]
    }
   ],
   "source": [
    "# run naive bayes classifier on datasets\n",
    "bayes.testBayes(sentencesTrain,  \"Films (Train Data, Naive Bayes)\\t\", pWordPos, pWordNeg, pWord,0.5, n=N)\n"
   ]
  },
  {
   "cell_type": "code",
   "execution_count": 4,
   "metadata": {},
   "outputs": [
    {
     "name": "stdout",
     "output_type": "stream",
     "text": [
      "Films  (Test Data, Naive Bayes)\t Accuracy (All)=0.78 (863/1113)\n",
      "\n",
      "Films  (Test Data, Naive Bayes)\t Precision (Pos)=0.80 (424/529)\n",
      "Films  (Test Data, Naive Bayes)\t Recall (Pos)=0.75 (424/569)\n",
      "Films  (Test Data, Naive Bayes)\t F-measure (Pos)=0.77\n",
      "Films  (Test Data, Naive Bayes)\t Precision (Pos)=0.75 (439/584)\n",
      "Films  (Test Data, Naive Bayes)\t Recall (Pos)=0.81 (439/544)\n",
      "Films  (Test Data, Naive Bayes)\t F-measure (Pos)=0.78\n"
     ]
    }
   ],
   "source": [
    "bayes.testBayes(sentencesTest,  \"Films  (Test Data, Naive Bayes)\\t\", pWordPos, pWordNeg, pWord,0.5, n=N)\n"
   ]
  },
  {
   "cell_type": "code",
   "execution_count": 5,
   "metadata": {},
   "outputs": [
    {
     "name": "stdout",
     "output_type": "stream",
     "text": [
      "Nokia   (All Data,  Naive Bayes)\t Accuracy (All)=0.58 (154/266)\n",
      "\n",
      "Nokia   (All Data,  Naive Bayes)\t Precision (Pos)=0.78 (104/134)\n",
      "Nokia   (All Data,  Naive Bayes)\t Recall (Pos)=0.56 (104/186)\n",
      "Nokia   (All Data,  Naive Bayes)\t F-measure (Pos)=0.65\n",
      "Nokia   (All Data,  Naive Bayes)\t Precision (Pos)=0.38 (50/132)\n",
      "Nokia   (All Data,  Naive Bayes)\t Recall (Pos)=0.63 (50/80)\n",
      "Nokia   (All Data,  Naive Bayes)\t F-measure (Pos)=0.48\n"
     ]
    }
   ],
   "source": [
    "bayes.testBayes(sentencesNokia, \"Nokia   (All Data,  Naive Bayes)\\t\", pWordPos, pWordNeg, pWord,0.7, n=N)\n"
   ]
  },
  {
   "cell_type": "code",
   "execution_count": 6,
   "metadata": {},
   "outputs": [
    {
     "name": "stdout",
     "output_type": "stream",
     "text": [
      "Films (Train Data, Rule-Based)\t Accuracy (All)=0.50 (4799/9551)\n",
      "\n",
      "Films (Train Data, Rule-Based)\t Precision (Pos)=0.50 (4756/9501)\n",
      "Films (Train Data, Rule-Based)\t Recall (Pos)=1.00 (4756/4763)\n",
      "Films (Train Data, Rule-Based)\t F-measure (Pos)=0.67\n",
      "Films (Train Data, Rule-Based)\t Precision (Pos)=0.86 (43/50)\n",
      "Films (Train Data, Rule-Based)\t Recall (Pos)=0.01 (43/4788)\n",
      "Films (Train Data, Rule-Based)\t F-measure (Pos)=0.02\n"
     ]
    }
   ],
   "source": [
    "# run sentiment dictionary based classifier on datasets\n",
    "rule_based.testDictionary(sentencesTrain,  \"Films (Train Data, Rule-Based)\\t\", sentimentDictionary, -4)\n"
   ]
  },
  {
   "cell_type": "code",
   "execution_count": 7,
   "metadata": {},
   "outputs": [
    {
     "name": "stdout",
     "output_type": "stream",
     "text": [
      "Films  (Test Data, Rule-Based)\t Accuracy (All)=0.51 (566/1113)\n",
      "\n",
      "Films  (Test Data, Rule-Based)\t Precision (Pos)=0.51 (566/1110)\n",
      "Films  (Test Data, Rule-Based)\t Recall (Pos)=0.99 (566/569)\n",
      "Films  (Test Data, Rule-Based)\t F-measure (Pos)=0.67\n",
      "Films  (Test Data, Rule-Based)\t Precision (Pos)=0.25 (0/3)\n",
      "Films  (Test Data, Rule-Based)\t Recall (Pos)=0.00 (0/544)\n",
      "Films  (Test Data, Rule-Based)\t F-measure (Pos)=0.00\n"
     ]
    }
   ],
   "source": [
    "rule_based.testDictionary(sentencesTest,  \"Films  (Test Data, Rule-Based)\\t\",  sentimentDictionary, -4)\n"
   ]
  },
  {
   "cell_type": "code",
   "execution_count": 8,
   "metadata": {},
   "outputs": [
    {
     "name": "stdout",
     "output_type": "stream",
     "text": [
      "Nokia   (All Data, Rule-Based)\t Accuracy (All)=0.70 (186/266)\n",
      "\n",
      "Nokia   (All Data, Rule-Based)\t Precision (Pos)=0.70 (186/266)\n",
      "Nokia   (All Data, Rule-Based)\t Recall (Pos)=1.00 (186/186)\n",
      "Nokia   (All Data, Rule-Based)\t F-measure (Pos)=0.82\n",
      "Nokia   (All Data, Rule-Based)\t Precision (Pos)=1.00 (0/0)\n",
      "Nokia   (All Data, Rule-Based)\t Recall (Pos)=0.01 (0/80)\n",
      "Nokia   (All Data, Rule-Based)\t F-measure (Pos)=0.02\n"
     ]
    }
   ],
   "source": [
    "rule_based.testDictionary(sentencesNokia, \"Nokia   (All Data, Rule-Based)\\t\",  sentimentDictionary, -3)\n"
   ]
  },
  {
   "cell_type": "code",
   "execution_count": 9,
   "metadata": {},
   "outputs": [
    {
     "name": "stdout",
     "output_type": "stream",
     "text": [
      "NEGATIVE:\n",
      "['stupid', 'mediocre', 'generic', 'unfunny', 'badly', 'routine', 'boring', 'mindless', 'stale', 'poorly', 'disguise', 'bore', \"wasn't\", 'pointless', 'unless', 'offensive', 'tiresome', 'devoid', 'product', 'meandering', 'animal', 'apparently', 'amateurish', 'plotting', 'shoot', 'seagal', 'annoying', 'plodding', 'pinocchio', 'waste', 'dull', 'supposed', 'preachy', 'horrible', 'chan', 'harvard', 'pathetic', 'wasted', 'uninspired', 'junk', 'exploitation', 'ill', 'sleep', 'inept', 'collection', 'cable', 'ridiculous', 'sadly', 'paper', 'bother']\n",
      "\n",
      "POSITIVE:\n",
      "['breathtaking', 'frailty', 'current', 'masterpiece', 'explores', 'captivating', 'answers', 'unique', 'warm', 'playful', 'startling', 'aspects', 'capture', 'sides', 'timely', 'grown', 'delightful', 'jealousy', 'heartwarming', 'document', 'resonant', 'unexpected', 'martha', 'lively', 'vividly', 'captures', 'touching', 'tender', 'iranian', 'dance', 'detailed', 'tour', 'spare', 'polished', 'respect', 'wry', 'gem', 'mesmerizing', 'wonderful', 'extraordinary', 'wonderfully', 'chilling', 'refreshingly', 'realistic', 'inventive', 'riveting', 'powerful', 'refreshing', 'provides', 'engrossing']\n"
     ]
    }
   ],
   "source": [
    "# print most useful words\n",
    "aux.mostUseful(pWordPos, pWordNeg, pWord, 50)\n"
   ]
  },
  {
   "cell_type": "code",
   "execution_count": null,
   "metadata": {},
   "outputs": [],
   "source": []
  }
 ],
 "metadata": {
  "kernelspec": {
   "display_name": "Python 3",
   "language": "python",
   "name": "python3"
  },
  "language_info": {
   "codemirror_mode": {
    "name": "ipython",
    "version": 3
   },
   "file_extension": ".py",
   "mimetype": "text/x-python",
   "name": "python",
   "nbconvert_exporter": "python",
   "pygments_lexer": "ipython3",
   "version": "3.7.4"
  }
 },
 "nbformat": 4,
 "nbformat_minor": 1
}
