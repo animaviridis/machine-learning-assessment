{
 "cells": [
  {
   "cell_type": "code",
   "execution_count": 1,
   "metadata": {},
   "outputs": [],
   "source": [
    "import aux_functions as aux\n",
    "import bayes\n",
    "import rule_based\n"
   ]
  },
  {
   "cell_type": "code",
   "execution_count": 2,
   "metadata": {},
   "outputs": [],
   "source": [
    "# initialise datasets and dictionaries\n",
    "sentimentDictionary, sentencesTrain, sentencesTest, sentencesNokia = aux.read_files()\n",
    "\n",
    "# build conditional probabilities using training data\n",
    "pWordPos, pWordNeg, pWord = bayes.trainBayes(sentencesTrain)"
   ]
  },
  {
   "cell_type": "code",
   "execution_count": 3,
   "metadata": {},
   "outputs": [
    {
     "name": "stdout",
     "output_type": "stream",
     "text": [
      "Films (Train Data, Naive Bayes)\t Accuracy (All)=0.93 (8909/9591)\n",
      "\n",
      "Films (Train Data, Naive Bayes)\t Precision (Pos)=0.93 (4403/4711)\n",
      "Films (Train Data, Naive Bayes)\t Recall (Pos)=0.92 (4403/4777)\n",
      "Films (Train Data, Naive Bayes)\t F-measure (Pos)=0.93\n",
      "Films (Train Data, Naive Bayes)\t Precision (Pos)=0.92 (4506/4880)\n",
      "Films (Train Data, Naive Bayes)\t Recall (Pos)=0.94 (4506/4814)\n",
      "Films (Train Data, Naive Bayes)\t F-measure (Pos)=0.93\n"
     ]
    }
   ],
   "source": [
    "# run naive bayes classifier on datasets\n",
    "bayes.testBayes(sentencesTrain,  \"Films (Train Data, Naive Bayes)\\t\", pWordPos, pWordNeg, pWord,0.5)\n"
   ]
  },
  {
   "cell_type": "code",
   "execution_count": 4,
   "metadata": {},
   "outputs": [
    {
     "name": "stdout",
     "output_type": "stream",
     "text": [
      "Films  (Test Data, Naive Bayes)\t Accuracy (All)=0.78 (840/1072)\n",
      "\n",
      "Films  (Test Data, Naive Bayes)\t Precision (Pos)=0.80 (427/532)\n",
      "Films  (Test Data, Naive Bayes)\t Recall (Pos)=0.77 (427/554)\n",
      "Films  (Test Data, Naive Bayes)\t F-measure (Pos)=0.79\n",
      "Films  (Test Data, Naive Bayes)\t Precision (Pos)=0.77 (413/540)\n",
      "Films  (Test Data, Naive Bayes)\t Recall (Pos)=0.80 (413/518)\n",
      "Films  (Test Data, Naive Bayes)\t F-measure (Pos)=0.78\n"
     ]
    }
   ],
   "source": [
    "bayes.testBayes(sentencesTest,  \"Films  (Test Data, Naive Bayes)\\t\", pWordPos, pWordNeg, pWord,0.5)\n"
   ]
  },
  {
   "cell_type": "code",
   "execution_count": 5,
   "metadata": {},
   "outputs": [
    {
     "name": "stdout",
     "output_type": "stream",
     "text": [
      "Nokia   (All Data,  Naive Bayes)\t Accuracy (All)=0.60 (159/266)\n",
      "\n",
      "Nokia   (All Data,  Naive Bayes)\t Precision (Pos)=0.79 (107/135)\n",
      "Nokia   (All Data,  Naive Bayes)\t Recall (Pos)=0.58 (107/186)\n",
      "Nokia   (All Data,  Naive Bayes)\t F-measure (Pos)=0.67\n",
      "Nokia   (All Data,  Naive Bayes)\t Precision (Pos)=0.40 (52/131)\n",
      "Nokia   (All Data,  Naive Bayes)\t Recall (Pos)=0.65 (52/80)\n",
      "Nokia   (All Data,  Naive Bayes)\t F-measure (Pos)=0.50\n"
     ]
    }
   ],
   "source": [
    "bayes.testBayes(sentencesNokia, \"Nokia   (All Data,  Naive Bayes)\\t\", pWordPos, pWordNeg, pWord,0.7)\n"
   ]
  },
  {
   "cell_type": "code",
   "execution_count": 6,
   "metadata": {},
   "outputs": [
    {
     "name": "stdout",
     "output_type": "stream",
     "text": [
      "Films (Train Data, Rule-Based)\t Accuracy (All)=0.50 (4809/9591)\n",
      "\n",
      "Films (Train Data, Rule-Based)\t Precision (Pos)=0.50 (4768/9541)\n",
      "Films (Train Data, Rule-Based)\t Recall (Pos)=1.00 (4768/4777)\n",
      "Films (Train Data, Rule-Based)\t F-measure (Pos)=0.67\n",
      "Films (Train Data, Rule-Based)\t Precision (Pos)=0.82 (41/50)\n",
      "Films (Train Data, Rule-Based)\t Recall (Pos)=0.01 (41/4814)\n",
      "Films (Train Data, Rule-Based)\t F-measure (Pos)=0.02\n"
     ]
    }
   ],
   "source": [
    "# run sentiment dictionary based classifier on datasets\n",
    "rule_based.testDictionary(sentencesTrain,  \"Films (Train Data, Rule-Based)\\t\", sentimentDictionary, -4)\n"
   ]
  },
  {
   "cell_type": "code",
   "execution_count": 7,
   "metadata": {},
   "outputs": [
    {
     "name": "stdout",
     "output_type": "stream",
     "text": [
      "Films  (Test Data, Rule-Based)\t Accuracy (All)=0.52 (555/1072)\n",
      "\n",
      "Films  (Test Data, Rule-Based)\t Precision (Pos)=0.52 (553/1069)\n",
      "Films  (Test Data, Rule-Based)\t Recall (Pos)=1.00 (553/554)\n",
      "Films  (Test Data, Rule-Based)\t F-measure (Pos)=0.68\n",
      "Films  (Test Data, Rule-Based)\t Precision (Pos)=0.75 (2/3)\n",
      "Films  (Test Data, Rule-Based)\t Recall (Pos)=0.01 (2/518)\n",
      "Films  (Test Data, Rule-Based)\t F-measure (Pos)=0.01\n"
     ]
    }
   ],
   "source": [
    "rule_based.testDictionary(sentencesTest,  \"Films  (Test Data, Rule-Based)\\t\",  sentimentDictionary, -4)\n"
   ]
  },
  {
   "cell_type": "code",
   "execution_count": null,
   "metadata": {},
   "outputs": [],
   "source": []
  },
  {
   "cell_type": "code",
   "execution_count": 8,
   "metadata": {},
   "outputs": [
    {
     "name": "stdout",
     "output_type": "stream",
     "text": [
      "Nokia   (All Data, Rule-Based)\t Accuracy (All)=0.70 (186/266)\n",
      "\n",
      "Nokia   (All Data, Rule-Based)\t Precision (Pos)=0.70 (186/266)\n",
      "Nokia   (All Data, Rule-Based)\t Recall (Pos)=1.00 (186/186)\n",
      "Nokia   (All Data, Rule-Based)\t F-measure (Pos)=0.82\n",
      "Nokia   (All Data, Rule-Based)\t Precision (Pos)=1.00 (0/0)\n",
      "Nokia   (All Data, Rule-Based)\t Recall (Pos)=0.01 (0/80)\n",
      "Nokia   (All Data, Rule-Based)\t F-measure (Pos)=0.02\n"
     ]
    }
   ],
   "source": [
    "rule_based.testDictionary(sentencesNokia, \"Nokia   (All Data, Rule-Based)\\t\",  sentimentDictionary, -3)\n"
   ]
  },
  {
   "cell_type": "code",
   "execution_count": 9,
   "metadata": {},
   "outputs": [
    {
     "name": "stdout",
     "output_type": "stream",
     "text": [
      "NEGATIVE:\n",
      "['generic', 'unfunny', 'mediocre', 'routine', 'badly', 'the_problem', 'ill', 'poorly', 'supposed_to', 'the_worst', 'ends_up', 'made_for', 'bore', 'boring', 'mindless', 'stale', 'shoot', 'only_thing', 'unless', 'waste_of', 'dreary', 'apparently', 'annoying', 'sit_through', 'offensive', 'tiresome', 'it_feels', 'stupid', 'it_were', 'not_enough', 'bad_movie', 'plodding', 'pointless', 'dull', 'flat', 'a_script', 'attempt_at', '90_minutes', 'sum_of', 'product', 'amateurish', 'seagal', 'lifeless', 'far_too', 'pinocchio', 'waste', 'it_wants', 'no_real', 'meandering', 'animal']\n",
      "\n",
      "POSITIVE:\n",
      "['a_thoughtful', 'playful', 'detailed', 'resonant', 'but_still', 'spare', 'grown', 'respect', 'jealousy', 'spider', 'dazzling', 'captures', 'provides', 'tender', 'an_engaging', 'lively', 'tour', 'a_terrific', 'best_films', 'polished', 'assured', 'vividly', 'wonderful', 'offers_a', 'glimpse', 'best_of', 'performances_from', 'heartwarming', 'chilling', 'wonderfully', 'an_enjoyable', 'love_and', 'charming_and', 'gem', 'mesmerizing', 'quietly', 'powerful', 'refreshingly', 'haunting', 'riveting', 'realistic', 'in_years', 'unique', 'a_smart', 'masterpiece', 'flawed', 'refreshing', 'what_makes', 'inventive', 'engrossing']\n"
     ]
    }
   ],
   "source": [
    "# print most useful words\n",
    "aux.mostUseful(pWordPos, pWordNeg, pWord, 50)\n"
   ]
  },
  {
   "cell_type": "code",
   "execution_count": null,
   "metadata": {},
   "outputs": [],
   "source": []
  }
 ],
 "metadata": {
  "kernelspec": {
   "display_name": "Python 3",
   "language": "python",
   "name": "python3"
  },
  "language_info": {
   "codemirror_mode": {
    "name": "ipython",
    "version": 3
   },
   "file_extension": ".py",
   "mimetype": "text/x-python",
   "name": "python",
   "nbconvert_exporter": "python",
   "pygments_lexer": "ipython3",
   "version": "3.7.4"
  }
 },
 "nbformat": 4,
 "nbformat_minor": 1
}
